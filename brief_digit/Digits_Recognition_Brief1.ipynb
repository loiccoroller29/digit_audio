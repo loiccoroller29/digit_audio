{
 "cells": [
  {
   "cell_type": "markdown",
   "id": "b7595d29",
   "metadata": {},
   "source": [
    "# Reconnaissance des Digits basée sur les enregistrements Audios "
   ]
  },
  {
   "cell_type": "markdown",
   "id": "f0166db3",
   "metadata": {},
   "source": [
    "### Importer les bibliothéques necessaires "
   ]
  },
  {
   "cell_type": "code",
   "execution_count": 158,
   "id": "b7148295",
   "metadata": {},
   "outputs": [],
   "source": [
    "import numpy as np\n",
    "import os\n",
    "import matplotlib.pyplot as plt\n",
    "import seaborn as sb\n",
    "sb.set_style(\"whitegrid\", {'axes.grid' : False})\n",
    "sb.set(font_scale = 2)\n",
    "import pandas as pd\n",
    "from sklearn.model_selection import train_test_split\n",
    "from sklearn.preprocessing import StandardScaler\n",
    "from sklearn.tree import DecisionTreeClassifier\n",
    "from sklearn.ensemble import RandomForestClassifier\n",
    "from sklearn.ensemble import GradientBoostingClassifier\n",
    "from sklearn.svm import SVC\n",
    "from sklearn.neural_network import MLPClassifier \n",
    "from Tools.tools import rec\n",
    "from Tools.tools import collection"
   ]
  },
  {
   "cell_type": "markdown",
   "id": "d1be1404",
   "metadata": {},
   "source": [
    "### Collection "
   ]
  },
  {
   "cell_type": "code",
   "execution_count": 160,
   "id": "11219c90",
   "metadata": {},
   "outputs": [],
   "source": [
    "# collection()"
   ]
  },
  {
   "cell_type": "markdown",
   "id": "2568a8ea",
   "metadata": {},
   "source": [
    "#### 1. Importer votre DataSet"
   ]
  },
  {
   "cell_type": "code",
   "execution_count": 284,
   "id": "ce5eb82b",
   "metadata": {},
   "outputs": [],
   "source": [
    "mydata = pd.read_csv('./DataSet/'+os.listdir('./DataSet/')[0])"
   ]
  },
  {
   "cell_type": "markdown",
   "id": "5b4507c9",
   "metadata": {},
   "source": [
    "##### Print"
   ]
  },
  {
   "cell_type": "code",
   "execution_count": 285,
   "id": "8220a5d5",
   "metadata": {},
   "outputs": [
    {
     "data": {
      "text/html": [
       "<div>\n",
       "<style scoped>\n",
       "    .dataframe tbody tr th:only-of-type {\n",
       "        vertical-align: middle;\n",
       "    }\n",
       "\n",
       "    .dataframe tbody tr th {\n",
       "        vertical-align: top;\n",
       "    }\n",
       "\n",
       "    .dataframe thead th {\n",
       "        text-align: right;\n",
       "    }\n",
       "</style>\n",
       "<table border=\"1\" class=\"dataframe\">\n",
       "  <thead>\n",
       "    <tr style=\"text-align: right;\">\n",
       "      <th></th>\n",
       "      <th>Fe1</th>\n",
       "      <th>Fe2</th>\n",
       "      <th>Fe3</th>\n",
       "      <th>Fe4</th>\n",
       "      <th>Fe5</th>\n",
       "      <th>Fe6</th>\n",
       "      <th>Fe7</th>\n",
       "      <th>Fe8</th>\n",
       "      <th>Fe9</th>\n",
       "      <th>Fe10</th>\n",
       "      <th>Fe11</th>\n",
       "      <th>Fe12</th>\n",
       "      <th>Target</th>\n",
       "    </tr>\n",
       "  </thead>\n",
       "  <tbody>\n",
       "    <tr>\n",
       "      <th>0</th>\n",
       "      <td>8.769831</td>\n",
       "      <td>-28.132754</td>\n",
       "      <td>-7.217933</td>\n",
       "      <td>-2.926102</td>\n",
       "      <td>2.479673</td>\n",
       "      <td>-9.801402</td>\n",
       "      <td>-0.709304</td>\n",
       "      <td>-2.712402</td>\n",
       "      <td>-3.349622</td>\n",
       "      <td>-0.302495</td>\n",
       "      <td>-1.934686</td>\n",
       "      <td>-0.776286</td>\n",
       "      <td>0.0</td>\n",
       "    </tr>\n",
       "    <tr>\n",
       "      <th>1</th>\n",
       "      <td>9.101204</td>\n",
       "      <td>-27.712503</td>\n",
       "      <td>-7.402189</td>\n",
       "      <td>-7.684519</td>\n",
       "      <td>-3.144193</td>\n",
       "      <td>-11.474646</td>\n",
       "      <td>0.909369</td>\n",
       "      <td>3.870697</td>\n",
       "      <td>6.033722</td>\n",
       "      <td>4.852083</td>\n",
       "      <td>0.816946</td>\n",
       "      <td>-0.086821</td>\n",
       "      <td>1.0</td>\n",
       "    </tr>\n",
       "    <tr>\n",
       "      <th>2</th>\n",
       "      <td>8.269127</td>\n",
       "      <td>-28.096719</td>\n",
       "      <td>-4.344011</td>\n",
       "      <td>-5.690030</td>\n",
       "      <td>-0.695199</td>\n",
       "      <td>-6.964167</td>\n",
       "      <td>1.608848</td>\n",
       "      <td>-0.066286</td>\n",
       "      <td>1.533915</td>\n",
       "      <td>0.957556</td>\n",
       "      <td>-3.404431</td>\n",
       "      <td>-2.244226</td>\n",
       "      <td>2.0</td>\n",
       "    </tr>\n",
       "    <tr>\n",
       "      <th>3</th>\n",
       "      <td>8.952217</td>\n",
       "      <td>-25.828383</td>\n",
       "      <td>-3.867474</td>\n",
       "      <td>-2.178898</td>\n",
       "      <td>-0.195159</td>\n",
       "      <td>-13.190862</td>\n",
       "      <td>-4.091815</td>\n",
       "      <td>-2.099132</td>\n",
       "      <td>0.560830</td>\n",
       "      <td>3.301503</td>\n",
       "      <td>1.377358</td>\n",
       "      <td>-0.666695</td>\n",
       "      <td>3.0</td>\n",
       "    </tr>\n",
       "    <tr>\n",
       "      <th>4</th>\n",
       "      <td>9.360507</td>\n",
       "      <td>-25.953896</td>\n",
       "      <td>-9.181735</td>\n",
       "      <td>-5.169506</td>\n",
       "      <td>-0.276754</td>\n",
       "      <td>-12.081353</td>\n",
       "      <td>1.247758</td>\n",
       "      <td>1.873248</td>\n",
       "      <td>1.063382</td>\n",
       "      <td>3.797565</td>\n",
       "      <td>1.554781</td>\n",
       "      <td>-1.630786</td>\n",
       "      <td>4.0</td>\n",
       "    </tr>\n",
       "  </tbody>\n",
       "</table>\n",
       "</div>"
      ],
      "text/plain": [
       "        Fe1        Fe2       Fe3       Fe4       Fe5        Fe6       Fe7  \\\n",
       "0  8.769831 -28.132754 -7.217933 -2.926102  2.479673  -9.801402 -0.709304   \n",
       "1  9.101204 -27.712503 -7.402189 -7.684519 -3.144193 -11.474646  0.909369   \n",
       "2  8.269127 -28.096719 -4.344011 -5.690030 -0.695199  -6.964167  1.608848   \n",
       "3  8.952217 -25.828383 -3.867474 -2.178898 -0.195159 -13.190862 -4.091815   \n",
       "4  9.360507 -25.953896 -9.181735 -5.169506 -0.276754 -12.081353  1.247758   \n",
       "\n",
       "        Fe8       Fe9      Fe10      Fe11      Fe12  Target  \n",
       "0 -2.712402 -3.349622 -0.302495 -1.934686 -0.776286     0.0  \n",
       "1  3.870697  6.033722  4.852083  0.816946 -0.086821     1.0  \n",
       "2 -0.066286  1.533915  0.957556 -3.404431 -2.244226     2.0  \n",
       "3 -2.099132  0.560830  3.301503  1.377358 -0.666695     3.0  \n",
       "4  1.873248  1.063382  3.797565  1.554781 -1.630786     4.0  "
      ]
     },
     "execution_count": 285,
     "metadata": {},
     "output_type": "execute_result"
    }
   ],
   "source": [
    "mydata.head()"
   ]
  },
  {
   "cell_type": "markdown",
   "id": "82cb8a14",
   "metadata": {},
   "source": [
    "---"
   ]
  },
  {
   "cell_type": "markdown",
   "id": "97eadd16",
   "metadata": {},
   "source": [
    "## Entrainement sur données 0-1"
   ]
  },
  {
   "cell_type": "code",
   "execution_count": 327,
   "id": "4565a890",
   "metadata": {},
   "outputs": [],
   "source": [
    "test = mydata[mydata[\"Target\"].isin([0, 1])]"
   ]
  },
  {
   "cell_type": "code",
   "execution_count": 328,
   "id": "22e5f454",
   "metadata": {},
   "outputs": [
    {
     "data": {
      "text/html": [
       "<div>\n",
       "<style scoped>\n",
       "    .dataframe tbody tr th:only-of-type {\n",
       "        vertical-align: middle;\n",
       "    }\n",
       "\n",
       "    .dataframe tbody tr th {\n",
       "        vertical-align: top;\n",
       "    }\n",
       "\n",
       "    .dataframe thead th {\n",
       "        text-align: right;\n",
       "    }\n",
       "</style>\n",
       "<table border=\"1\" class=\"dataframe\">\n",
       "  <thead>\n",
       "    <tr style=\"text-align: right;\">\n",
       "      <th></th>\n",
       "      <th>Fe1</th>\n",
       "      <th>Fe2</th>\n",
       "      <th>Fe3</th>\n",
       "      <th>Fe4</th>\n",
       "      <th>Fe5</th>\n",
       "      <th>Fe6</th>\n",
       "      <th>Fe7</th>\n",
       "      <th>Fe8</th>\n",
       "      <th>Fe9</th>\n",
       "      <th>Fe10</th>\n",
       "      <th>Fe11</th>\n",
       "      <th>Fe12</th>\n",
       "      <th>Target</th>\n",
       "    </tr>\n",
       "  </thead>\n",
       "  <tbody>\n",
       "    <tr>\n",
       "      <th>0</th>\n",
       "      <td>8.769831</td>\n",
       "      <td>-28.132754</td>\n",
       "      <td>-7.217933</td>\n",
       "      <td>-2.926102</td>\n",
       "      <td>2.479673</td>\n",
       "      <td>-9.801402</td>\n",
       "      <td>-0.709304</td>\n",
       "      <td>-2.712402</td>\n",
       "      <td>-3.349622</td>\n",
       "      <td>-0.302495</td>\n",
       "      <td>-1.934686</td>\n",
       "      <td>-0.776286</td>\n",
       "      <td>0.0</td>\n",
       "    </tr>\n",
       "    <tr>\n",
       "      <th>1</th>\n",
       "      <td>9.101204</td>\n",
       "      <td>-27.712503</td>\n",
       "      <td>-7.402189</td>\n",
       "      <td>-7.684519</td>\n",
       "      <td>-3.144193</td>\n",
       "      <td>-11.474646</td>\n",
       "      <td>0.909369</td>\n",
       "      <td>3.870697</td>\n",
       "      <td>6.033722</td>\n",
       "      <td>4.852083</td>\n",
       "      <td>0.816946</td>\n",
       "      <td>-0.086821</td>\n",
       "      <td>1.0</td>\n",
       "    </tr>\n",
       "    <tr>\n",
       "      <th>10</th>\n",
       "      <td>10.833239</td>\n",
       "      <td>-17.390357</td>\n",
       "      <td>-2.065542</td>\n",
       "      <td>0.550677</td>\n",
       "      <td>4.810516</td>\n",
       "      <td>-8.736143</td>\n",
       "      <td>2.018994</td>\n",
       "      <td>0.479991</td>\n",
       "      <td>-2.742527</td>\n",
       "      <td>1.012074</td>\n",
       "      <td>-0.928832</td>\n",
       "      <td>-2.491313</td>\n",
       "      <td>0.0</td>\n",
       "    </tr>\n",
       "    <tr>\n",
       "      <th>11</th>\n",
       "      <td>11.771364</td>\n",
       "      <td>-12.149150</td>\n",
       "      <td>1.100455</td>\n",
       "      <td>1.781644</td>\n",
       "      <td>4.297379</td>\n",
       "      <td>-8.309138</td>\n",
       "      <td>2.232884</td>\n",
       "      <td>1.390569</td>\n",
       "      <td>0.202111</td>\n",
       "      <td>2.113167</td>\n",
       "      <td>-5.473123</td>\n",
       "      <td>-6.757033</td>\n",
       "      <td>1.0</td>\n",
       "    </tr>\n",
       "    <tr>\n",
       "      <th>20</th>\n",
       "      <td>8.884646</td>\n",
       "      <td>-26.445804</td>\n",
       "      <td>-3.222528</td>\n",
       "      <td>-5.604192</td>\n",
       "      <td>0.885089</td>\n",
       "      <td>-8.072114</td>\n",
       "      <td>0.146351</td>\n",
       "      <td>-1.376469</td>\n",
       "      <td>-3.790563</td>\n",
       "      <td>-2.206418</td>\n",
       "      <td>-0.589098</td>\n",
       "      <td>0.842442</td>\n",
       "      <td>0.0</td>\n",
       "    </tr>\n",
       "    <tr>\n",
       "      <th>21</th>\n",
       "      <td>8.502242</td>\n",
       "      <td>-28.192103</td>\n",
       "      <td>-5.292759</td>\n",
       "      <td>-6.370652</td>\n",
       "      <td>-1.858757</td>\n",
       "      <td>-11.192206</td>\n",
       "      <td>-2.095999</td>\n",
       "      <td>2.699804</td>\n",
       "      <td>4.244799</td>\n",
       "      <td>2.871033</td>\n",
       "      <td>0.679295</td>\n",
       "      <td>-1.696815</td>\n",
       "      <td>1.0</td>\n",
       "    </tr>\n",
       "    <tr>\n",
       "      <th>30</th>\n",
       "      <td>11.671615</td>\n",
       "      <td>-19.735454</td>\n",
       "      <td>-8.944508</td>\n",
       "      <td>-3.234550</td>\n",
       "      <td>4.477534</td>\n",
       "      <td>-10.420368</td>\n",
       "      <td>2.249685</td>\n",
       "      <td>-0.954852</td>\n",
       "      <td>-7.105804</td>\n",
       "      <td>-0.374305</td>\n",
       "      <td>1.591795</td>\n",
       "      <td>1.321635</td>\n",
       "      <td>0.0</td>\n",
       "    </tr>\n",
       "    <tr>\n",
       "      <th>31</th>\n",
       "      <td>7.971023</td>\n",
       "      <td>-29.764603</td>\n",
       "      <td>-5.359292</td>\n",
       "      <td>-8.003877</td>\n",
       "      <td>-3.158634</td>\n",
       "      <td>-10.209239</td>\n",
       "      <td>-0.141178</td>\n",
       "      <td>3.790219</td>\n",
       "      <td>4.161264</td>\n",
       "      <td>1.626042</td>\n",
       "      <td>-0.060559</td>\n",
       "      <td>-0.043726</td>\n",
       "      <td>1.0</td>\n",
       "    </tr>\n",
       "    <tr>\n",
       "      <th>40</th>\n",
       "      <td>9.238262</td>\n",
       "      <td>-25.044033</td>\n",
       "      <td>-5.311138</td>\n",
       "      <td>-2.640774</td>\n",
       "      <td>3.926478</td>\n",
       "      <td>-10.015266</td>\n",
       "      <td>-1.230152</td>\n",
       "      <td>-0.582003</td>\n",
       "      <td>-2.104836</td>\n",
       "      <td>-0.466653</td>\n",
       "      <td>0.369919</td>\n",
       "      <td>-0.502870</td>\n",
       "      <td>0.0</td>\n",
       "    </tr>\n",
       "    <tr>\n",
       "      <th>41</th>\n",
       "      <td>8.470965</td>\n",
       "      <td>-27.870810</td>\n",
       "      <td>-7.484424</td>\n",
       "      <td>-9.083141</td>\n",
       "      <td>-2.231193</td>\n",
       "      <td>-10.553339</td>\n",
       "      <td>-0.401730</td>\n",
       "      <td>1.937922</td>\n",
       "      <td>2.490221</td>\n",
       "      <td>0.377865</td>\n",
       "      <td>-1.246164</td>\n",
       "      <td>-0.919561</td>\n",
       "      <td>1.0</td>\n",
       "    </tr>\n",
       "    <tr>\n",
       "      <th>50</th>\n",
       "      <td>9.983900</td>\n",
       "      <td>-23.740253</td>\n",
       "      <td>-5.713177</td>\n",
       "      <td>-2.369313</td>\n",
       "      <td>4.834788</td>\n",
       "      <td>-8.048126</td>\n",
       "      <td>1.359210</td>\n",
       "      <td>-1.110114</td>\n",
       "      <td>-1.606740</td>\n",
       "      <td>1.281564</td>\n",
       "      <td>0.197769</td>\n",
       "      <td>0.396386</td>\n",
       "      <td>0.0</td>\n",
       "    </tr>\n",
       "    <tr>\n",
       "      <th>51</th>\n",
       "      <td>9.376497</td>\n",
       "      <td>-24.331472</td>\n",
       "      <td>-5.036977</td>\n",
       "      <td>-6.765802</td>\n",
       "      <td>-0.701931</td>\n",
       "      <td>-9.222061</td>\n",
       "      <td>-0.526185</td>\n",
       "      <td>3.542912</td>\n",
       "      <td>4.828256</td>\n",
       "      <td>2.198937</td>\n",
       "      <td>0.402427</td>\n",
       "      <td>-1.537792</td>\n",
       "      <td>1.0</td>\n",
       "    </tr>\n",
       "    <tr>\n",
       "      <th>60</th>\n",
       "      <td>13.496454</td>\n",
       "      <td>-7.817912</td>\n",
       "      <td>-1.840477</td>\n",
       "      <td>1.656809</td>\n",
       "      <td>2.229673</td>\n",
       "      <td>-8.649014</td>\n",
       "      <td>2.404934</td>\n",
       "      <td>-2.952349</td>\n",
       "      <td>-4.769375</td>\n",
       "      <td>-1.363337</td>\n",
       "      <td>-7.541028</td>\n",
       "      <td>-6.002408</td>\n",
       "      <td>0.0</td>\n",
       "    </tr>\n",
       "    <tr>\n",
       "      <th>61</th>\n",
       "      <td>13.483467</td>\n",
       "      <td>-4.775978</td>\n",
       "      <td>-2.772352</td>\n",
       "      <td>-8.087339</td>\n",
       "      <td>-4.018722</td>\n",
       "      <td>-9.296168</td>\n",
       "      <td>5.749806</td>\n",
       "      <td>4.347308</td>\n",
       "      <td>-0.187530</td>\n",
       "      <td>-0.930907</td>\n",
       "      <td>-6.380651</td>\n",
       "      <td>-6.252013</td>\n",
       "      <td>1.0</td>\n",
       "    </tr>\n",
       "    <tr>\n",
       "      <th>70</th>\n",
       "      <td>15.199991</td>\n",
       "      <td>-8.181386</td>\n",
       "      <td>1.348265</td>\n",
       "      <td>-4.786383</td>\n",
       "      <td>-3.333420</td>\n",
       "      <td>-9.311354</td>\n",
       "      <td>1.639644</td>\n",
       "      <td>-2.117337</td>\n",
       "      <td>-4.297762</td>\n",
       "      <td>-0.913407</td>\n",
       "      <td>-3.061830</td>\n",
       "      <td>-7.131781</td>\n",
       "      <td>0.0</td>\n",
       "    </tr>\n",
       "    <tr>\n",
       "      <th>71</th>\n",
       "      <td>15.149273</td>\n",
       "      <td>3.835015</td>\n",
       "      <td>6.807854</td>\n",
       "      <td>-7.231492</td>\n",
       "      <td>-5.636662</td>\n",
       "      <td>-11.422281</td>\n",
       "      <td>1.319170</td>\n",
       "      <td>-7.284120</td>\n",
       "      <td>-10.402513</td>\n",
       "      <td>-0.762748</td>\n",
       "      <td>-6.844656</td>\n",
       "      <td>-8.688637</td>\n",
       "      <td>1.0</td>\n",
       "    </tr>\n",
       "    <tr>\n",
       "      <th>80</th>\n",
       "      <td>14.576718</td>\n",
       "      <td>-4.703058</td>\n",
       "      <td>-8.343933</td>\n",
       "      <td>4.697447</td>\n",
       "      <td>6.392405</td>\n",
       "      <td>-9.557421</td>\n",
       "      <td>11.155366</td>\n",
       "      <td>-1.114053</td>\n",
       "      <td>-5.297616</td>\n",
       "      <td>5.761908</td>\n",
       "      <td>-4.818496</td>\n",
       "      <td>-3.262686</td>\n",
       "      <td>0.0</td>\n",
       "    </tr>\n",
       "    <tr>\n",
       "      <th>81</th>\n",
       "      <td>14.233806</td>\n",
       "      <td>-1.400137</td>\n",
       "      <td>-4.610060</td>\n",
       "      <td>-6.842491</td>\n",
       "      <td>-2.474239</td>\n",
       "      <td>-4.996236</td>\n",
       "      <td>12.240923</td>\n",
       "      <td>-2.616670</td>\n",
       "      <td>-4.643338</td>\n",
       "      <td>3.751480</td>\n",
       "      <td>-8.672712</td>\n",
       "      <td>-7.343913</td>\n",
       "      <td>1.0</td>\n",
       "    </tr>\n",
       "    <tr>\n",
       "      <th>90</th>\n",
       "      <td>13.408575</td>\n",
       "      <td>-10.175523</td>\n",
       "      <td>-4.928964</td>\n",
       "      <td>1.585437</td>\n",
       "      <td>3.189993</td>\n",
       "      <td>-10.850778</td>\n",
       "      <td>5.633634</td>\n",
       "      <td>-2.539867</td>\n",
       "      <td>-7.994624</td>\n",
       "      <td>-2.405147</td>\n",
       "      <td>-7.112965</td>\n",
       "      <td>-5.269689</td>\n",
       "      <td>0.0</td>\n",
       "    </tr>\n",
       "    <tr>\n",
       "      <th>91</th>\n",
       "      <td>12.577504</td>\n",
       "      <td>-9.136898</td>\n",
       "      <td>-1.427841</td>\n",
       "      <td>-2.650010</td>\n",
       "      <td>0.244839</td>\n",
       "      <td>-6.706010</td>\n",
       "      <td>11.192762</td>\n",
       "      <td>3.907614</td>\n",
       "      <td>-0.247188</td>\n",
       "      <td>4.750824</td>\n",
       "      <td>-3.073115</td>\n",
       "      <td>-2.376788</td>\n",
       "      <td>1.0</td>\n",
       "    </tr>\n",
       "    <tr>\n",
       "      <th>100</th>\n",
       "      <td>12.563902</td>\n",
       "      <td>-10.034043</td>\n",
       "      <td>-1.998217</td>\n",
       "      <td>1.975299</td>\n",
       "      <td>5.329819</td>\n",
       "      <td>-8.695793</td>\n",
       "      <td>0.613678</td>\n",
       "      <td>-2.836422</td>\n",
       "      <td>-5.804390</td>\n",
       "      <td>-2.404122</td>\n",
       "      <td>-4.334372</td>\n",
       "      <td>-1.562262</td>\n",
       "      <td>0.0</td>\n",
       "    </tr>\n",
       "    <tr>\n",
       "      <th>101</th>\n",
       "      <td>11.644924</td>\n",
       "      <td>-13.525981</td>\n",
       "      <td>-1.213753</td>\n",
       "      <td>-2.222831</td>\n",
       "      <td>-0.741610</td>\n",
       "      <td>-11.957405</td>\n",
       "      <td>0.989126</td>\n",
       "      <td>1.748698</td>\n",
       "      <td>-1.438148</td>\n",
       "      <td>-0.620680</td>\n",
       "      <td>-4.181541</td>\n",
       "      <td>-4.784733</td>\n",
       "      <td>1.0</td>\n",
       "    </tr>\n",
       "    <tr>\n",
       "      <th>110</th>\n",
       "      <td>13.203569</td>\n",
       "      <td>-10.650698</td>\n",
       "      <td>-3.124180</td>\n",
       "      <td>0.067628</td>\n",
       "      <td>2.146954</td>\n",
       "      <td>-7.910575</td>\n",
       "      <td>3.610126</td>\n",
       "      <td>-2.900930</td>\n",
       "      <td>-6.093871</td>\n",
       "      <td>-2.850262</td>\n",
       "      <td>-7.431824</td>\n",
       "      <td>-6.959715</td>\n",
       "      <td>0.0</td>\n",
       "    </tr>\n",
       "    <tr>\n",
       "      <th>111</th>\n",
       "      <td>12.681892</td>\n",
       "      <td>-10.604960</td>\n",
       "      <td>-0.860447</td>\n",
       "      <td>-1.970734</td>\n",
       "      <td>-0.798558</td>\n",
       "      <td>-11.155005</td>\n",
       "      <td>3.560048</td>\n",
       "      <td>1.561816</td>\n",
       "      <td>-2.816140</td>\n",
       "      <td>-1.736645</td>\n",
       "      <td>-7.269408</td>\n",
       "      <td>-7.990364</td>\n",
       "      <td>1.0</td>\n",
       "    </tr>\n",
       "    <tr>\n",
       "      <th>120</th>\n",
       "      <td>13.921910</td>\n",
       "      <td>-6.147250</td>\n",
       "      <td>-1.900386</td>\n",
       "      <td>0.051558</td>\n",
       "      <td>1.701297</td>\n",
       "      <td>-9.657816</td>\n",
       "      <td>5.967217</td>\n",
       "      <td>-0.555266</td>\n",
       "      <td>-6.085216</td>\n",
       "      <td>0.288777</td>\n",
       "      <td>-6.048331</td>\n",
       "      <td>-7.170131</td>\n",
       "      <td>0.0</td>\n",
       "    </tr>\n",
       "    <tr>\n",
       "      <th>121</th>\n",
       "      <td>11.967549</td>\n",
       "      <td>-14.308388</td>\n",
       "      <td>-5.284822</td>\n",
       "      <td>-2.731287</td>\n",
       "      <td>1.566039</td>\n",
       "      <td>-8.390954</td>\n",
       "      <td>1.596480</td>\n",
       "      <td>3.028153</td>\n",
       "      <td>1.657358</td>\n",
       "      <td>-0.764910</td>\n",
       "      <td>-3.844223</td>\n",
       "      <td>-5.961738</td>\n",
       "      <td>1.0</td>\n",
       "    </tr>\n",
       "    <tr>\n",
       "      <th>130</th>\n",
       "      <td>12.800774</td>\n",
       "      <td>-5.614789</td>\n",
       "      <td>-2.726346</td>\n",
       "      <td>-5.058952</td>\n",
       "      <td>0.225282</td>\n",
       "      <td>-6.924689</td>\n",
       "      <td>4.876189</td>\n",
       "      <td>-2.393910</td>\n",
       "      <td>-8.296196</td>\n",
       "      <td>-2.277774</td>\n",
       "      <td>-4.617001</td>\n",
       "      <td>-5.309064</td>\n",
       "      <td>0.0</td>\n",
       "    </tr>\n",
       "    <tr>\n",
       "      <th>131</th>\n",
       "      <td>11.731465</td>\n",
       "      <td>-8.774142</td>\n",
       "      <td>-0.292107</td>\n",
       "      <td>-6.137615</td>\n",
       "      <td>-1.863085</td>\n",
       "      <td>-8.927329</td>\n",
       "      <td>1.738800</td>\n",
       "      <td>1.575897</td>\n",
       "      <td>-1.882255</td>\n",
       "      <td>-0.773983</td>\n",
       "      <td>-3.259252</td>\n",
       "      <td>-5.945491</td>\n",
       "      <td>1.0</td>\n",
       "    </tr>\n",
       "    <tr>\n",
       "      <th>140</th>\n",
       "      <td>14.121244</td>\n",
       "      <td>-37.339141</td>\n",
       "      <td>-3.936327</td>\n",
       "      <td>-7.640088</td>\n",
       "      <td>-2.027770</td>\n",
       "      <td>-6.403727</td>\n",
       "      <td>-0.886400</td>\n",
       "      <td>1.225422</td>\n",
       "      <td>3.036007</td>\n",
       "      <td>2.500311</td>\n",
       "      <td>3.642636</td>\n",
       "      <td>1.495114</td>\n",
       "      <td>0.0</td>\n",
       "    </tr>\n",
       "    <tr>\n",
       "      <th>141</th>\n",
       "      <td>10.078210</td>\n",
       "      <td>-21.061438</td>\n",
       "      <td>0.779779</td>\n",
       "      <td>-1.306882</td>\n",
       "      <td>0.819050</td>\n",
       "      <td>-8.497373</td>\n",
       "      <td>0.251360</td>\n",
       "      <td>-0.911507</td>\n",
       "      <td>-2.165239</td>\n",
       "      <td>0.531081</td>\n",
       "      <td>-0.162992</td>\n",
       "      <td>-1.000997</td>\n",
       "      <td>1.0</td>\n",
       "    </tr>\n",
       "    <tr>\n",
       "      <th>150</th>\n",
       "      <td>15.034194</td>\n",
       "      <td>-34.597553</td>\n",
       "      <td>-7.789384</td>\n",
       "      <td>-9.458021</td>\n",
       "      <td>-2.478272</td>\n",
       "      <td>-8.380656</td>\n",
       "      <td>0.804191</td>\n",
       "      <td>0.064931</td>\n",
       "      <td>0.899076</td>\n",
       "      <td>0.601875</td>\n",
       "      <td>1.008121</td>\n",
       "      <td>0.102041</td>\n",
       "      <td>0.0</td>\n",
       "    </tr>\n",
       "    <tr>\n",
       "      <th>151</th>\n",
       "      <td>12.063015</td>\n",
       "      <td>-33.331564</td>\n",
       "      <td>-7.149928</td>\n",
       "      <td>-7.889918</td>\n",
       "      <td>-1.927351</td>\n",
       "      <td>-9.324026</td>\n",
       "      <td>0.304137</td>\n",
       "      <td>-1.215918</td>\n",
       "      <td>-0.214500</td>\n",
       "      <td>-0.193237</td>\n",
       "      <td>-0.701778</td>\n",
       "      <td>-0.598745</td>\n",
       "      <td>1.0</td>\n",
       "    </tr>\n",
       "  </tbody>\n",
       "</table>\n",
       "</div>"
      ],
      "text/plain": [
       "           Fe1        Fe2       Fe3       Fe4       Fe5        Fe6        Fe7  \\\n",
       "0     8.769831 -28.132754 -7.217933 -2.926102  2.479673  -9.801402  -0.709304   \n",
       "1     9.101204 -27.712503 -7.402189 -7.684519 -3.144193 -11.474646   0.909369   \n",
       "10   10.833239 -17.390357 -2.065542  0.550677  4.810516  -8.736143   2.018994   \n",
       "11   11.771364 -12.149150  1.100455  1.781644  4.297379  -8.309138   2.232884   \n",
       "20    8.884646 -26.445804 -3.222528 -5.604192  0.885089  -8.072114   0.146351   \n",
       "21    8.502242 -28.192103 -5.292759 -6.370652 -1.858757 -11.192206  -2.095999   \n",
       "30   11.671615 -19.735454 -8.944508 -3.234550  4.477534 -10.420368   2.249685   \n",
       "31    7.971023 -29.764603 -5.359292 -8.003877 -3.158634 -10.209239  -0.141178   \n",
       "40    9.238262 -25.044033 -5.311138 -2.640774  3.926478 -10.015266  -1.230152   \n",
       "41    8.470965 -27.870810 -7.484424 -9.083141 -2.231193 -10.553339  -0.401730   \n",
       "50    9.983900 -23.740253 -5.713177 -2.369313  4.834788  -8.048126   1.359210   \n",
       "51    9.376497 -24.331472 -5.036977 -6.765802 -0.701931  -9.222061  -0.526185   \n",
       "60   13.496454  -7.817912 -1.840477  1.656809  2.229673  -8.649014   2.404934   \n",
       "61   13.483467  -4.775978 -2.772352 -8.087339 -4.018722  -9.296168   5.749806   \n",
       "70   15.199991  -8.181386  1.348265 -4.786383 -3.333420  -9.311354   1.639644   \n",
       "71   15.149273   3.835015  6.807854 -7.231492 -5.636662 -11.422281   1.319170   \n",
       "80   14.576718  -4.703058 -8.343933  4.697447  6.392405  -9.557421  11.155366   \n",
       "81   14.233806  -1.400137 -4.610060 -6.842491 -2.474239  -4.996236  12.240923   \n",
       "90   13.408575 -10.175523 -4.928964  1.585437  3.189993 -10.850778   5.633634   \n",
       "91   12.577504  -9.136898 -1.427841 -2.650010  0.244839  -6.706010  11.192762   \n",
       "100  12.563902 -10.034043 -1.998217  1.975299  5.329819  -8.695793   0.613678   \n",
       "101  11.644924 -13.525981 -1.213753 -2.222831 -0.741610 -11.957405   0.989126   \n",
       "110  13.203569 -10.650698 -3.124180  0.067628  2.146954  -7.910575   3.610126   \n",
       "111  12.681892 -10.604960 -0.860447 -1.970734 -0.798558 -11.155005   3.560048   \n",
       "120  13.921910  -6.147250 -1.900386  0.051558  1.701297  -9.657816   5.967217   \n",
       "121  11.967549 -14.308388 -5.284822 -2.731287  1.566039  -8.390954   1.596480   \n",
       "130  12.800774  -5.614789 -2.726346 -5.058952  0.225282  -6.924689   4.876189   \n",
       "131  11.731465  -8.774142 -0.292107 -6.137615 -1.863085  -8.927329   1.738800   \n",
       "140  14.121244 -37.339141 -3.936327 -7.640088 -2.027770  -6.403727  -0.886400   \n",
       "141  10.078210 -21.061438  0.779779 -1.306882  0.819050  -8.497373   0.251360   \n",
       "150  15.034194 -34.597553 -7.789384 -9.458021 -2.478272  -8.380656   0.804191   \n",
       "151  12.063015 -33.331564 -7.149928 -7.889918 -1.927351  -9.324026   0.304137   \n",
       "\n",
       "          Fe8        Fe9      Fe10      Fe11      Fe12  Target  \n",
       "0   -2.712402  -3.349622 -0.302495 -1.934686 -0.776286     0.0  \n",
       "1    3.870697   6.033722  4.852083  0.816946 -0.086821     1.0  \n",
       "10   0.479991  -2.742527  1.012074 -0.928832 -2.491313     0.0  \n",
       "11   1.390569   0.202111  2.113167 -5.473123 -6.757033     1.0  \n",
       "20  -1.376469  -3.790563 -2.206418 -0.589098  0.842442     0.0  \n",
       "21   2.699804   4.244799  2.871033  0.679295 -1.696815     1.0  \n",
       "30  -0.954852  -7.105804 -0.374305  1.591795  1.321635     0.0  \n",
       "31   3.790219   4.161264  1.626042 -0.060559 -0.043726     1.0  \n",
       "40  -0.582003  -2.104836 -0.466653  0.369919 -0.502870     0.0  \n",
       "41   1.937922   2.490221  0.377865 -1.246164 -0.919561     1.0  \n",
       "50  -1.110114  -1.606740  1.281564  0.197769  0.396386     0.0  \n",
       "51   3.542912   4.828256  2.198937  0.402427 -1.537792     1.0  \n",
       "60  -2.952349  -4.769375 -1.363337 -7.541028 -6.002408     0.0  \n",
       "61   4.347308  -0.187530 -0.930907 -6.380651 -6.252013     1.0  \n",
       "70  -2.117337  -4.297762 -0.913407 -3.061830 -7.131781     0.0  \n",
       "71  -7.284120 -10.402513 -0.762748 -6.844656 -8.688637     1.0  \n",
       "80  -1.114053  -5.297616  5.761908 -4.818496 -3.262686     0.0  \n",
       "81  -2.616670  -4.643338  3.751480 -8.672712 -7.343913     1.0  \n",
       "90  -2.539867  -7.994624 -2.405147 -7.112965 -5.269689     0.0  \n",
       "91   3.907614  -0.247188  4.750824 -3.073115 -2.376788     1.0  \n",
       "100 -2.836422  -5.804390 -2.404122 -4.334372 -1.562262     0.0  \n",
       "101  1.748698  -1.438148 -0.620680 -4.181541 -4.784733     1.0  \n",
       "110 -2.900930  -6.093871 -2.850262 -7.431824 -6.959715     0.0  \n",
       "111  1.561816  -2.816140 -1.736645 -7.269408 -7.990364     1.0  \n",
       "120 -0.555266  -6.085216  0.288777 -6.048331 -7.170131     0.0  \n",
       "121  3.028153   1.657358 -0.764910 -3.844223 -5.961738     1.0  \n",
       "130 -2.393910  -8.296196 -2.277774 -4.617001 -5.309064     0.0  \n",
       "131  1.575897  -1.882255 -0.773983 -3.259252 -5.945491     1.0  \n",
       "140  1.225422   3.036007  2.500311  3.642636  1.495114     0.0  \n",
       "141 -0.911507  -2.165239  0.531081 -0.162992 -1.000997     1.0  \n",
       "150  0.064931   0.899076  0.601875  1.008121  0.102041     0.0  \n",
       "151 -1.215918  -0.214500 -0.193237 -0.701778 -0.598745     1.0  "
      ]
     },
     "execution_count": 328,
     "metadata": {},
     "output_type": "execute_result"
    }
   ],
   "source": [
    "test"
   ]
  },
  {
   "cell_type": "code",
   "execution_count": 330,
   "id": "b3238804",
   "metadata": {},
   "outputs": [
    {
     "data": {
      "text/plain": [
       "(153, 12)"
      ]
     },
     "execution_count": 330,
     "metadata": {},
     "output_type": "execute_result"
    }
   ],
   "source": [
    "X = mydata.iloc[:,:-1]\n",
    "y = mydata['Target']\n",
    "\n",
    "X.shape"
   ]
  },
  {
   "cell_type": "code",
   "execution_count": 331,
   "id": "0b2976ac",
   "metadata": {},
   "outputs": [],
   "source": [
    "from sklearn.model_selection import train_test_split\n",
    "\n",
    "X_train, X_test, y_train, y_test = train_test_split(X, y, test_size=0.2)"
   ]
  },
  {
   "cell_type": "code",
   "execution_count": 332,
   "id": "803a9a45",
   "metadata": {},
   "outputs": [
    {
     "name": "stdout",
     "output_type": "stream",
     "text": [
      "StandardScaler()\n"
     ]
    }
   ],
   "source": [
    "from sklearn.preprocessing import StandardScaler\n",
    "\n",
    "scaler = StandardScaler()\n",
    "print(scaler.fit(X_train))"
   ]
  },
  {
   "cell_type": "code",
   "execution_count": 333,
   "id": "d1f71625",
   "metadata": {},
   "outputs": [
    {
     "data": {
      "text/plain": [
       "array([[ 0.51908211,  0.33868447, -1.04606842, ..., -1.04467823,\n",
       "        -0.6624518 , -0.82022475],\n",
       "       [ 0.46124122,  0.96798582,  0.79953605, ...,  0.32080919,\n",
       "        -0.50218317, -0.42558936],\n",
       "       [-1.12928877, -0.69010077,  0.17583403, ...,  0.54969259,\n",
       "         0.67936209,  0.45886623],\n",
       "       ...,\n",
       "       [ 0.17795399,  0.66695269,  1.30389036, ..., -1.50587282,\n",
       "        -1.734212  , -1.76071346],\n",
       "       [ 1.3461178 ,  0.77777542, -0.59694231, ..., -0.94576286,\n",
       "        -0.84154908, -1.32697159],\n",
       "       [ 2.25725224,  3.50123775,  2.95149445, ..., -0.14453686,\n",
       "        -1.88426623, -0.30811767]])"
      ]
     },
     "execution_count": 333,
     "metadata": {},
     "output_type": "execute_result"
    }
   ],
   "source": [
    "scaler.transform(X_train)"
   ]
  },
  {
   "cell_type": "code",
   "execution_count": 334,
   "id": "70ea8a64",
   "metadata": {},
   "outputs": [],
   "source": [
    "from sklearn.model_selection import train_test_split\n",
    "from sklearn.preprocessing import StandardScaler\n",
    "from sklearn.pipeline import Pipeline\n",
    "from sklearn.neighbors import KNeighborsClassifier\n",
    "from sklearn.tree import DecisionTreeClassifier\n",
    "from sklearn import svm\n",
    "from sklearn.linear_model import LogisticRegression\n",
    "import warnings\n",
    "warnings.filterwarnings('ignore')"
   ]
  },
  {
   "cell_type": "code",
   "execution_count": 335,
   "id": "99a5522a",
   "metadata": {},
   "outputs": [
    {
     "name": "stdout",
     "output_type": "stream",
     "text": [
      "[15:07:24] WARNING: C:/Users/Administrator/workspace/xgboost-win64_release_1.5.1/src/learner.cc:1115: Starting in XGBoost 1.3.0, the default evaluation metric used with the objective 'multi:softprob' was changed from 'merror' to 'mlogloss'. Explicitly set eval_metric if you'd like to restore the old behavior.\n",
      "\n",
      " Accuracy 0.9032258064516129\n"
     ]
    }
   ],
   "source": [
    "from xgboost import XGBClassifier\n",
    "\n",
    "boost = XGBClassifier()\n",
    "boost.fit(X_train, y_train)\n",
    "\n",
    "print(\"\\n Accuracy\", model.score(X_test,y_test))"
   ]
  },
  {
   "cell_type": "code",
   "execution_count": 337,
   "id": "719e03bf",
   "metadata": {},
   "outputs": [
    {
     "name": "stdout",
     "output_type": "stream",
     "text": [
      "[15:07:37] WARNING: C:/Users/Administrator/workspace/xgboost-win64_release_1.5.1/src/learner.cc:1115: Starting in XGBoost 1.3.0, the default evaluation metric used with the objective 'multi:softprob' was changed from 'merror' to 'mlogloss'. Explicitly set eval_metric if you'd like to restore the old behavior.\n",
      "Arbre de décision, Test Accuracy:0.3548387096774194\n",
      "Support Vector Machine, Test Accuracy:0.5161290322580645\n",
      "K Nearest Neighbor, Test Accuracy:0.4838709677419355\n",
      "Random forest, Test Accuracy:0.5161290322580645\n",
      "XGBoost Test Accuracy:0.41935483870967744\n"
     ]
    }
   ],
   "source": [
    "parameters = { }\n",
    "\n",
    "\n",
    "pipeline_dt=Pipeline([('scalar2',StandardScaler()),\n",
    "                     ('dt_classifier',DecisionTreeClassifier())])\n",
    "\n",
    "pipeline_svm = Pipeline([('scalar3', StandardScaler()),\n",
    "                      ('clf', svm.SVC())])\n",
    "\n",
    "pipeline_knn=Pipeline([('scalar4',StandardScaler()),\n",
    "                     ('knn_classifier',KNeighborsClassifier())])\n",
    "\n",
    "pipeline_randomforest = Pipeline([('scalar5',StandardScaler()),\n",
    "                     ('randomforest_classifier',RandomForestClassifier())])\n",
    "\n",
    "\n",
    "pipeline_xgb = Pipeline([('scalar6',StandardScaler()),\n",
    "                     ('xgb_classifier', XGBClassifier())])\n",
    "\n",
    "pipelines = [pipeline_dt, pipeline_svm, pipeline_knn, pipeline_randomforest, pipeline_xgb]     \n",
    "pipe_dict = {0: 'Arbre de décision,', 1: 'Support Vector Machine,', 2:'K Nearest Neighbor,', 3:'Random forest,', 4:'XGBoost'}\n",
    "for x in pipelines:\n",
    "  x.fit(X_train, y_train)\n",
    "for i,model in enumerate(pipelines):\n",
    "    print(\"{} Test Accuracy:{}\".format(pipe_dict[i],model.score(X_test,y_test)))"
   ]
  },
  {
   "cell_type": "markdown",
   "id": "760d9957",
   "metadata": {},
   "source": [
    "#### 2. Checker les variables quantitatives/qualitatives et les valeurs manquantes "
   ]
  },
  {
   "cell_type": "code",
   "execution_count": 312,
   "id": "28a00ab1",
   "metadata": {},
   "outputs": [
    {
     "data": {
      "text/plain": [
       "Fe1    Fe2    Fe3    Fe4    Fe5    Fe6    Fe7    Fe8    Fe9    Fe10   Fe11   Fe12   Target\n",
       "False  False  False  False  False  False  False  False  False  False  False  False  False     153\n",
       "dtype: int64"
      ]
     },
     "execution_count": 312,
     "metadata": {},
     "output_type": "execute_result"
    }
   ],
   "source": [
    "mydata.isnull().value_counts()"
   ]
  },
  {
   "cell_type": "code",
   "execution_count": 313,
   "id": "bccd98ee",
   "metadata": {},
   "outputs": [
    {
     "data": {
      "text/plain": [
       "Fe1       0\n",
       "Fe2       0\n",
       "Fe3       0\n",
       "Fe4       0\n",
       "Fe5       0\n",
       "Fe6       0\n",
       "Fe7       0\n",
       "Fe8       0\n",
       "Fe9       0\n",
       "Fe10      0\n",
       "Fe11      0\n",
       "Fe12      0\n",
       "Target    0\n",
       "dtype: int64"
      ]
     },
     "execution_count": 313,
     "metadata": {},
     "output_type": "execute_result"
    }
   ],
   "source": [
    "mydata.isna().sum()"
   ]
  },
  {
   "cell_type": "code",
   "execution_count": 314,
   "id": "c52df128",
   "metadata": {},
   "outputs": [
    {
     "data": {
      "text/plain": [
       "<AxesSubplot:>"
      ]
     },
     "execution_count": 314,
     "metadata": {},
     "output_type": "execute_result"
    },
    {
     "data": {
      "image/png": "[encoded data removed]",
      "text/plain": [
       "<Figure size 432x288 with 1 Axes>"
      ]
     },
     "metadata": {},
     "output_type": "display_data"
    }
   ],
   "source": [
    "mydata['Target'].value_counts().hist()"
   ]
  },
  {
   "cell_type": "code",
   "execution_count": 315,
   "id": "954994fb",
   "metadata": {},
   "outputs": [
    {
     "data": {
      "image/png": "[encoded data removed]",
      "text/plain": [
       "<Figure size 1080x648 with 1 Axes>"
      ]
     },
     "metadata": {},
     "output_type": "display_data"
    }
   ],
   "source": [
    "import seaborn as sns \n",
    "import matplotlib.pyplot as plt \n",
    "from sklearn.decomposition import PCA\n",
    "\n",
    "pca = PCA(n_components=2)\n",
    "df2 = pd.DataFrame(pca.fit_transform(mydata.iloc[:, :-1]))\n",
    "\n",
    "df2[\"Target\"] = mydata[\"Target\"]\n",
    "df2.columns = [\"P1\",\"P2\",\"Target\"]\n",
    "\n",
    "\n",
    "plt.figure(1,figsize=(15,9))\n",
    "plt.clf()\n",
    "sns.scatterplot(x=\"P1\",y=\"P2\",hue=\"Target\",data=df2, palette = \"Paired\")\n",
    "\n",
    "\n",
    "\n",
    "#plt.plot(x,y,\"+\")\n",
    "\n",
    "plt.xlabel('P1')\n",
    "plt.ylabel('P2')\n",
    "plt.show()"
   ]
  },
  {
   "cell_type": "code",
   "execution_count": 166,
   "id": "83b293a5",
   "metadata": {},
   "outputs": [
    {
     "name": "stdout",
     "output_type": "stream",
     "text": [
      "<class 'pandas.core.frame.DataFrame'>\n",
      "RangeIndex: 153 entries, 0 to 152\n",
      "Data columns (total 13 columns):\n",
      " #   Column  Non-Null Count  Dtype  \n",
      "---  ------  --------------  -----  \n",
      " 0   Fe1     153 non-null    float64\n",
      " 1   Fe2     153 non-null    float64\n",
      " 2   Fe3     153 non-null    float64\n",
      " 3   Fe4     153 non-null    float64\n",
      " 4   Fe5     153 non-null    float64\n",
      " 5   Fe6     153 non-null    float64\n",
      " 6   Fe7     153 non-null    float64\n",
      " 7   Fe8     153 non-null    float64\n",
      " 8   Fe9     153 non-null    float64\n",
      " 9   Fe10    153 non-null    float64\n",
      " 10  Fe11    153 non-null    float64\n",
      " 11  Fe12    153 non-null    float64\n",
      " 12  Target  153 non-null    float64\n",
      "dtypes: float64(13)\n",
      "memory usage: 15.7 KB\n"
     ]
    }
   ],
   "source": [
    "mydata.info()"
   ]
  },
  {
   "cell_type": "markdown",
   "id": "74459c71",
   "metadata": {},
   "source": [
    "#### 3. Visualiser les targets"
   ]
  },
  {
   "cell_type": "code",
   "execution_count": 316,
   "id": "fa987f77",
   "metadata": {},
   "outputs": [
    {
     "data": {
      "text/plain": [
       "0      0.0\n",
       "1      1.0\n",
       "2      2.0\n",
       "3      3.0\n",
       "4      4.0\n",
       "      ... \n",
       "148    8.0\n",
       "149    9.0\n",
       "150    0.0\n",
       "151    1.0\n",
       "152    2.0\n",
       "Name: Target, Length: 153, dtype: float64"
      ]
     },
     "execution_count": 316,
     "metadata": {},
     "output_type": "execute_result"
    }
   ],
   "source": [
    "mydata['Target']"
   ]
  },
  {
   "cell_type": "markdown",
   "id": "4fa2127d",
   "metadata": {},
   "source": [
    "#### 4. Notre variable target (Y) est 'gender', Récuprer X et y à partir du jeu de données "
   ]
  },
  {
   "cell_type": "code",
   "execution_count": 317,
   "id": "19f92ac5",
   "metadata": {},
   "outputs": [
    {
     "data": {
      "text/plain": [
       "(153, 12)"
      ]
     },
     "execution_count": 317,
     "metadata": {},
     "output_type": "execute_result"
    }
   ],
   "source": [
    "y = mydata['Target']\n",
    "X = mydata.iloc[:,:-1]\n",
    "X.shape"
   ]
  },
  {
   "cell_type": "markdown",
   "id": "7e9d4ad0",
   "metadata": {},
   "source": [
    "#### 5. Diviser la DataSet en donneés d'apprentissage et de test (20% pour le test)"
   ]
  },
  {
   "cell_type": "code",
   "execution_count": 318,
   "id": "43b7e8fb",
   "metadata": {},
   "outputs": [],
   "source": [
    "from sklearn.model_selection import train_test_split\n",
    "\n",
    "X_train, X_test, y_train, y_test = train_test_split(X, y, test_size=0.2)"
   ]
  },
  {
   "cell_type": "markdown",
   "id": "20d8a63a",
   "metadata": {},
   "source": [
    "#### 6. Appliquer une normalisation centrée-réduite aux données en utilisant \"StandardScaler\""
   ]
  },
  {
   "cell_type": "code",
   "execution_count": 319,
   "id": "7a945403",
   "metadata": {},
   "outputs": [
    {
     "name": "stdout",
     "output_type": "stream",
     "text": [
      "StandardScaler()\n"
     ]
    }
   ],
   "source": [
    "from sklearn.preprocessing import StandardScaler\n",
    "\n",
    "scaler = StandardScaler()\n",
    "print(scaler.fit(X_train))\n"
   ]
  },
  {
   "cell_type": "code",
   "execution_count": 320,
   "id": "b00e774a",
   "metadata": {},
   "outputs": [
    {
     "data": {
      "text/plain": [
       "array([[-0.46672235, -0.06837855,  0.69249987, ...,  0.24149276,\n",
       "         0.49228008,  0.27553478],\n",
       "       [-0.80421936, -0.37069088, -0.02141307, ..., -0.49292617,\n",
       "        -0.68333872, -0.88705679],\n",
       "       [-0.95740638, -0.81444935, -0.20252467, ...,  1.793673  ,\n",
       "         2.27222239,  1.04338773],\n",
       "       ...,\n",
       "       [ 1.32480039,  0.66114477, -0.68927539, ..., -0.94012109,\n",
       "        -0.77496414, -1.3192287 ],\n",
       "       [ 1.7052987 ,  1.76445447,  0.66720037, ..., -0.46358522,\n",
       "        -2.84779309, -1.05799226],\n",
       "       [ 0.75543601,  0.33627223, -0.57429892, ..., -1.30957641,\n",
       "         0.15972521, -0.66419989]])"
      ]
     },
     "execution_count": 320,
     "metadata": {},
     "output_type": "execute_result"
    }
   ],
   "source": [
    "scaler.transform(X_train)"
   ]
  },
  {
   "cell_type": "markdown",
   "id": "719d6b42",
   "metadata": {},
   "source": [
    "#### 7. Développer votre meilleur modèle de classification"
   ]
  },
  {
   "cell_type": "code",
   "execution_count": 321,
   "id": "50c4441f",
   "metadata": {},
   "outputs": [],
   "source": [
    "from sklearn.model_selection import train_test_split\n",
    "from sklearn.preprocessing import StandardScaler\n",
    "from sklearn.pipeline import Pipeline\n",
    "from sklearn.neighbors import KNeighborsClassifier\n",
    "from sklearn.tree import DecisionTreeClassifier\n",
    "from sklearn import svm\n",
    "from sklearn.linear_model import LogisticRegression\n",
    "import warnings\n",
    "warnings.filterwarnings('ignore')"
   ]
  },
  {
   "cell_type": "code",
   "execution_count": 322,
   "id": "eca55edd",
   "metadata": {},
   "outputs": [
    {
     "name": "stdout",
     "output_type": "stream",
     "text": [
      "[14:44:22] WARNING: C:/Users/Administrator/workspace/xgboost-win64_release_1.5.1/src/learner.cc:1115: Starting in XGBoost 1.3.0, the default evaluation metric used with the objective 'multi:softprob' was changed from 'merror' to 'mlogloss'. Explicitly set eval_metric if you'd like to restore the old behavior.\n",
      "\n",
      " Accuracy 0.9032258064516129\n"
     ]
    }
   ],
   "source": [
    "from xgboost import XGBClassifier\n",
    "\n",
    "boost = XGBClassifier()\n",
    "boost.fit(X_train, y_train)\n",
    "\n",
    "print(\"\\n Accuracy\", model.score(X_test,y_test))"
   ]
  },
  {
   "cell_type": "code",
   "execution_count": 323,
   "id": "beca249d",
   "metadata": {},
   "outputs": [
    {
     "name": "stdout",
     "output_type": "stream",
     "text": [
      "[14:44:24] WARNING: C:/Users/Administrator/workspace/xgboost-win64_release_1.5.1/src/learner.cc:1115: Starting in XGBoost 1.3.0, the default evaluation metric used with the objective 'multi:softprob' was changed from 'merror' to 'mlogloss'. Explicitly set eval_metric if you'd like to restore the old behavior.\n",
      "Arbre de décision, Test Accuracy:0.3548387096774194\n",
      "Support Vector Machine, Test Accuracy:0.6451612903225806\n",
      "K Nearest Neighbor, Test Accuracy:0.6451612903225806\n",
      "Random forest, Test Accuracy:0.5806451612903226\n",
      "XGBoost Test Accuracy:0.41935483870967744\n"
     ]
    }
   ],
   "source": [
    "parameters = { }\n",
    "\n",
    "\n",
    "pipeline_dt=Pipeline([('scalar2',StandardScaler()),\n",
    "                     ('dt_classifier',DecisionTreeClassifier())])\n",
    "\n",
    "pipeline_svm = Pipeline([('scalar3', StandardScaler()),\n",
    "                      ('clf', svm.SVC())])\n",
    "\n",
    "pipeline_knn=Pipeline([('scalar4',StandardScaler()),\n",
    "                     ('knn_classifier',KNeighborsClassifier())])\n",
    "\n",
    "pipeline_randomforest = Pipeline([('scalar5',StandardScaler()),\n",
    "                     ('randomforest_classifier',RandomForestClassifier())])\n",
    "\n",
    "\n",
    "pipeline_xgb = Pipeline([('scalar6',StandardScaler()),\n",
    "                     ('xgb_classifier', XGBClassifier())])\n",
    "\n",
    "pipelines = [pipeline_dt, pipeline_svm, pipeline_knn, pipeline_randomforest, pipeline_xgb]     \n",
    "pipe_dict = {0: 'Arbre de décision,', 1: 'Support Vector Machine,', 2:'K Nearest Neighbor,', 3:'Random forest,', 4:'XGBoost'}\n",
    "for x in pipelines:\n",
    "  x.fit(X_train, y_train)\n",
    "for i,model in enumerate(pipelines):\n",
    "    print(\"{} Test Accuracy:{}\".format(pipe_dict[i],model.score(X_test,y_test)))"
   ]
  },
  {
   "cell_type": "code",
   "execution_count": 324,
   "id": "7031ce62",
   "metadata": {},
   "outputs": [
    {
     "name": "stdout",
     "output_type": "stream",
     "text": [
      "[14:44:28] WARNING: C:/Users/Administrator/workspace/xgboost-win64_release_1.5.1/src/learner.cc:1115: Starting in XGBoost 1.3.0, the default evaluation metric used with the objective 'multi:softprob' was changed from 'merror' to 'mlogloss'. Explicitly set eval_metric if you'd like to restore the old behavior.\n",
      "Logistic Regression Test Accuracy:0.6129032258064516\n",
      "Decision Tree Test Accuracy:0.25806451612903225\n",
      "Support Vector Machine Test Accuracy:0.6451612903225806\n",
      "K Nearest Neighbor Test Accuracy:0.6451612903225806\n",
      "Randomforest Test Accuracy:0.22580645161290322\n",
      "Xgboost Test Accuracy:0.41935483870967744\n"
     ]
    }
   ],
   "source": [
    "param_range = [1, 2, 3, 4, 5, 6]\n",
    "n_estimators = [50,100,150]\n",
    "learning_rates = [.1,.2,.3]\n",
    "\n",
    "\n",
    "\n",
    "pipeline_lr=Pipeline([('scalar1',StandardScaler()),\n",
    "\n",
    "                     ('lr_classifier',LogisticRegression())])\n",
    "\n",
    "pipeline_dt=Pipeline([('scalar2',StandardScaler()),\n",
    "\n",
    "                     ('dt_classifier',DecisionTreeClassifier())])\n",
    "\n",
    "pipeline_svm = Pipeline([('scalar3', StandardScaler()),\n",
    "\n",
    "                      ('clf', svm.SVC())])\n",
    "\n",
    "pipeline_knn=Pipeline([('scalar4',StandardScaler()),\n",
    "\n",
    "                     ('knn_classifier',KNeighborsClassifier())])\n",
    "\n",
    "pipeline_randomforest = Pipeline([('pca4', PCA(n_components=2)),\n",
    "                     ('randomforest_classifier',RandomForestClassifier())])\n",
    "\n",
    "pipeline_xgboost = Pipeline([('scalar5', StandardScaler()),\n",
    "                     ('xgboost',XGBClassifier())])\n",
    "\n",
    "xgb_param_grid = [{'XGBlearning_rate': learning_rates,\n",
    "                    'XGBmax_depth': param_range,\n",
    "                    'XGBmin_child_weight': param_range[:2],\n",
    "                    'XGBsubsample': param_range_fl,\n",
    "                    'XGB__n_estimators': n_estimators}]\n",
    "\n",
    "pipelines = [pipeline_lr, pipeline_dt, pipeline_svm, pipeline_knn, pipeline_randomforest, pipeline_xgboost]     \n",
    "pipe_dict = {0: 'Logistic Regression', 1: 'Decision Tree', 2: 'Support Vector Machine', 3:'K Nearest Neighbor', 4: 'Randomforest', 5: 'Xgboost'}\n",
    "\n",
    "for pipe in pipelines:\n",
    "  pipe.fit(X_train, y_train)\n",
    "for i,model in enumerate(pipelines):\n",
    "    print(\"{} Test Accuracy:{}\".format(pipe_dict[i],model.score(X_test,y_test)))\n"
   ]
  },
  {
   "cell_type": "markdown",
   "id": "d4fff812",
   "metadata": {},
   "source": [
    "# Application en Temps Réel"
   ]
  },
  {
   "cell_type": "code",
   "execution_count": 326,
   "id": "b930cc28",
   "metadata": {},
   "outputs": [
    {
     "name": "stdout",
     "output_type": "stream",
     "text": [
      "5\n",
      "4\n",
      "3\n",
      "2\n",
      "1\n",
      "0\n",
      "Prononcer votre Digit : \n",
      "------------------\n",
      "Digit :  0.0\n",
      "------------------\n"
     ]
    }
   ],
   "source": [
    "from Tools.tools import rec\n",
    "from Tools.tools import collection\n",
    "import sounddevice as sd \n",
    "import time \n",
    "import scipy.io.wavfile as wav\n",
    "from python_speech_features import mfcc \n",
    "import wave\n",
    "import os\n",
    "import numpy as np\n",
    "import pandas as pd\n",
    "\n",
    "for i in range(0,6):\n",
    "    time.sleep(1)\n",
    "    print(5-i)\n",
    "\n",
    "\n",
    "rate = 48000\n",
    "duration = 2\n",
    "\n",
    "print(\"Prononcer votre Digit : \")\n",
    "data = sd.rec(int(duration * rate), samplerate=rate, channels=1)\n",
    "sd.wait()\n",
    "\n",
    "data = data / data.max() * np.iinfo(np.int16).max\n",
    "data = data.astype(np.int16)\n",
    "\n",
    "mfcc_feat = np.mean(mfcc(data,rate, numcep=12), axis=0)\n",
    "mfcc_feat = np.expand_dims(mfcc_feat, axis=0)\n",
    "pred = pipeline_lr.predict(mfcc_feat)\n",
    "print('------------------')\n",
    "print('Digit : ', pred[0])\n",
    "print('------------------')"
   ]
  },
  {
   "cell_type": "markdown",
   "id": "ff1f6b7f",
   "metadata": {},
   "source": [
    "---"
   ]
  },
  {
   "cell_type": "markdown",
   "id": "fef3b4db",
   "metadata": {},
   "source": [
    "## Partie 3 : Mettre en place la solution dans une application Test Temps Réel"
   ]
  },
  {
   "cell_type": "code",
   "execution_count": 325,
   "id": "9aa7bf5f",
   "metadata": {},
   "outputs": [],
   "source": [
    "import joblib\n",
    "\n",
    "filename = 'modele.sav'\n",
    "\n",
    "joblib.dump(pipeline_knn, filename)\n",
    "\n",
    "nom_du_modele = joblib.load(filename)"
   ]
  }
 ],
 "metadata": {
  "kernelspec": {
   "display_name": "Python 3",
   "language": "python",
   "name": "python3"
  },
  "language_info": {
   "codemirror_mode": {
    "name": "ipython",
    "version": 3
   },
   "file_extension": ".py",
   "mimetype": "text/x-python",
   "name": "python",
   "nbconvert_exporter": "python",
   "pygments_lexer": "ipython3",
   "version": "3.8.3"
  }
 },
 "nbformat": 4,
 "nbformat_minor": 5
}
